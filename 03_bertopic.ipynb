{
 "cells": [
  {
   "cell_type": "markdown",
   "metadata": {},
   "source": [
    "# Topic Modeling"
   ]
  },
  {
   "cell_type": "markdown",
   "metadata": {},
   "source": [
    "## To import all modules"
   ]
  },
  {
   "cell_type": "code",
   "execution_count": 4,
   "metadata": {},
   "outputs": [
    {
     "name": "stderr",
     "output_type": "stream",
     "text": [
      "/Users/osakiyutaka/.pyenv/versions/3.10.4/lib/python3.10/site-packages/tqdm/auto.py:21: TqdmWarning: IProgress not found. Please update jupyter and ipywidgets. See https://ipywidgets.readthedocs.io/en/stable/user_install.html\n",
      "  from .autonotebook import tqdm as notebook_tqdm\n"
     ]
    }
   ],
   "source": [
    "import pandas as pd\n",
    "import os\n",
    "from transformers import AutoTokenizer, AutoModel\n",
    "import torch\n",
    "import numpy as np\n",
    "import matplotlib.pyplot as plt\n",
    "import seaborn as sns\n",
    "import pandas as pd\n",
    "from bertopic import BERTopic\n",
    "from sklearn.feature_extraction.text import CountVectorizer\n",
    "import hdbscan\n",
    "from umap import UMAP"
   ]
  },
  {
   "cell_type": "markdown",
   "metadata": {},
   "source": [
    "## To load dataset and make it tidy"
   ]
  },
  {
   "cell_type": "code",
   "execution_count": 12,
   "metadata": {},
   "outputs": [],
   "source": [
    "data = pd.read_csv('data/dataset.csv')\n",
    "data = data[['book', 'chapter', 'content']]\n"
   ]
  },
  {
   "cell_type": "code",
   "execution_count": 13,
   "metadata": {},
   "outputs": [],
   "source": [
    "# read output.txt file, and load it into the data dataframe, as a new column called 'segmented'\n",
    "if os.path.exists('data/word_segmentation.txt'):\n",
    "    with open('data/word_segmentation.txt', 'r') as f:\n",
    "        lines = f.readlines()\n",
    "    data['segmented'] = lines"
   ]
  },
  {
   "cell_type": "code",
   "execution_count": 14,
   "metadata": {},
   "outputs": [
    {
     "data": {
      "text/html": [
       "<div>\n",
       "<style scoped>\n",
       "    .dataframe tbody tr th:only-of-type {\n",
       "        vertical-align: middle;\n",
       "    }\n",
       "\n",
       "    .dataframe tbody tr th {\n",
       "        vertical-align: top;\n",
       "    }\n",
       "\n",
       "    .dataframe thead th {\n",
       "        text-align: right;\n",
       "    }\n",
       "</style>\n",
       "<table border=\"1\" class=\"dataframe\">\n",
       "  <thead>\n",
       "    <tr style=\"text-align: right;\">\n",
       "      <th></th>\n",
       "      <th>book</th>\n",
       "      <th>chapter</th>\n",
       "      <th>content</th>\n",
       "      <th>segmented</th>\n",
       "    </tr>\n",
       "  </thead>\n",
       "  <tbody>\n",
       "    <tr>\n",
       "      <th>0</th>\n",
       "      <td>analects</td>\n",
       "      <td>學而</td>\n",
       "      <td>子曰：「學而時習之，不亦說乎？有朋自遠方來，不亦樂乎？人不知而不慍，不亦君子乎？」\\n\\n有...</td>\n",
       "      <td>子 曰 学 而 时 习 之 不 亦 说 乎 有 朋 自 远 方 来 不 亦 乐 乎 人 不 ...</td>\n",
       "    </tr>\n",
       "    <tr>\n",
       "      <th>1</th>\n",
       "      <td>analects</td>\n",
       "      <td>為政</td>\n",
       "      <td>子曰：「為政以德，譬如北辰，居其所而眾星共之。」\\n\\n子曰：「詩三百，一言以蔽之，曰『思無...</td>\n",
       "      <td>子 曰 为 政 以 德 譬 如 北 辰 居 其 所 而 众 星 共 之 子 曰 诗 三百 一...</td>\n",
       "    </tr>\n",
       "    <tr>\n",
       "      <th>2</th>\n",
       "      <td>analects</td>\n",
       "      <td>八佾</td>\n",
       "      <td>孔子謂季氏：「八佾舞於庭，是可忍也，孰不可忍也？」\\n\\n三家者以雍徹。子曰：「『相維辟公，...</td>\n",
       "      <td>孔子 谓 季 氏 八 佾 舞 于 庭 是 可 忍 也 孰 不 可 忍 也 三 家 者 以 雍...</td>\n",
       "    </tr>\n",
       "    <tr>\n",
       "      <th>3</th>\n",
       "      <td>analects</td>\n",
       "      <td>里仁</td>\n",
       "      <td>子曰：「里仁為美。擇不處仁，焉得知？」\\n\\n子曰：「不仁者不可以久處約，不可以長處樂。仁者...</td>\n",
       "      <td>子 曰 里 仁 为 美 择 不 处 仁 焉 得 知 子 曰 不 仁 者 不 可 以 久 处 ...</td>\n",
       "    </tr>\n",
       "    <tr>\n",
       "      <th>4</th>\n",
       "      <td>analects</td>\n",
       "      <td>公冶長</td>\n",
       "      <td>子謂公冶長，「可妻也。雖在縲絏之中，非其罪也」。以其子妻之。\\n\\n子謂南容，「邦有道，不廢...</td>\n",
       "      <td>子 谓 公冶 长 可 妻 也 虽 在 缧 绁 之 中 非 其 罪 也 以 其 子 妻 之 子...</td>\n",
       "    </tr>\n",
       "  </tbody>\n",
       "</table>\n",
       "</div>"
      ],
      "text/plain": [
       "       book chapter                                            content  \\\n",
       "0  analects      學而  子曰：「學而時習之，不亦說乎？有朋自遠方來，不亦樂乎？人不知而不慍，不亦君子乎？」\\n\\n有...   \n",
       "1  analects      為政  子曰：「為政以德，譬如北辰，居其所而眾星共之。」\\n\\n子曰：「詩三百，一言以蔽之，曰『思無...   \n",
       "2  analects      八佾  孔子謂季氏：「八佾舞於庭，是可忍也，孰不可忍也？」\\n\\n三家者以雍徹。子曰：「『相維辟公，...   \n",
       "3  analects      里仁  子曰：「里仁為美。擇不處仁，焉得知？」\\n\\n子曰：「不仁者不可以久處約，不可以長處樂。仁者...   \n",
       "4  analects     公冶長  子謂公冶長，「可妻也。雖在縲絏之中，非其罪也」。以其子妻之。\\n\\n子謂南容，「邦有道，不廢...   \n",
       "\n",
       "                                           segmented  \n",
       "0  子 曰 学 而 时 习 之 不 亦 说 乎 有 朋 自 远 方 来 不 亦 乐 乎 人 不 ...  \n",
       "1  子 曰 为 政 以 德 譬 如 北 辰 居 其 所 而 众 星 共 之 子 曰 诗 三百 一...  \n",
       "2  孔子 谓 季 氏 八 佾 舞 于 庭 是 可 忍 也 孰 不 可 忍 也 三 家 者 以 雍...  \n",
       "3  子 曰 里 仁 为 美 择 不 处 仁 焉 得 知 子 曰 不 仁 者 不 可 以 久 处 ...  \n",
       "4  子 谓 公冶 长 可 妻 也 虽 在 缧 绁 之 中 非 其 罪 也 以 其 子 妻 之 子...  "
      ]
     },
     "execution_count": 14,
     "metadata": {},
     "output_type": "execute_result"
    }
   ],
   "source": [
    "data.head()"
   ]
  },
  {
   "cell_type": "markdown",
   "metadata": {},
   "source": [
    "## To add time attributes"
   ]
  },
  {
   "cell_type": "code",
   "execution_count": 15,
   "metadata": {},
   "outputs": [],
   "source": [
    "list_bookname = list(data[\"book\"].unique())\n",
    "list_book_time = [\n",
    "    ['analects',-480, -350],\n",
    "    ['mengzi',  -340, -250],\n",
    "    ['liji',    -475, -221],\n",
    "    ['xunzi',   -475, -221],\n",
    "    ['xiao-jing',-475, -221],\n",
    "    ['shuo-yuan',-206, 9],\n",
    "    ['chun-qiu-fan-lu',-206, 9],\n",
    "    ['han-shi-wai-zhuan',-180, -120],\n",
    "    ['da-dai-li-ji',100, 200],\n",
    "    ['bai-hu-tong',79, 92],\n",
    "    ['xin-shu', -206, 9],\n",
    "    ['xin-xu',-206, 9],\n",
    "    ['yangzi-fayan',-33, 18],\n",
    "    ['zhong-lun',25, 220],\n",
    "    ['kongzi-jiayu',-206, 220],\n",
    "    ['qian-fu-lun',102, 167],\n",
    "    ['lunheng', 80, 80],\n",
    "    ['taixuanjing',-33, 18],\n",
    "    ['fengsutongyi',190, 200],\n",
    "    ['kongcongzi',25, 265],\n",
    "    ['shenjian',196, 220],\n",
    "    ['zhong-jing',100,166],\n",
    "    ['su-shu',-250,-186],\n",
    "    ['xinyu',-196, -196],\n",
    "    ['duduan',167, 258],\n",
    "    ['caizhong-langji', 152, 192]\n",
    "]\n",
    "def map_year(year):\n",
    "    return int(year/2 + 2000)\n",
    "def set_time_attributes(df):\n",
    "    \"\"\"\n",
    "    This function sets the time attributes \"Start\", \"End\", and \"era\" for each book in the input dataframe.\n",
    "\n",
    "    Parameters:\n",
    "    df (pandas.DataFrame): The input dataframe. It should contain a column named \"book\".\n",
    "\n",
    "    Returns:\n",
    "    pandas.DataFrame: The input dataframe with three new columns: \"Start\", \"End\", and \"era\". Each row represents a book.\n",
    "    - \"Start\" is the start year of the book.\n",
    "    - \"End\" is the end year of the book.\n",
    "    - \"era\" is the average of the start year and the end year.\n",
    "    \"\"\"\n",
    "    df[\"Start\"] = None  # Initialize the \"Start\" column\n",
    "    df[\"End\"] = None  # Initialize the \"End\" column\n",
    "    df[\"average_year\"] = None\n",
    "    df['mapped_year'] = None\n",
    "    num = list_bookname.index(df.iloc[0][\"book\"])  # Get the index of the first book in the list of book names\n",
    "    for i in range(df.shape[0]):  # For each row in the dataframe\n",
    "        num = list_bookname.index(df.iloc[i][\"book\"])  # Get the index of the book in the list of book names\n",
    "        df.loc[i, 'Start'] = list_book_time[num][1]  # Set the \"Start\" attribute\n",
    "        df.loc[i, 'End'] = list_book_time[num][2]  # Set the \"End\" attribute\n",
    "    for i in range(df.shape[0]):  # For each row in the dataframe\n",
    "        df.loc[i, 'average_year'] = int((df.loc[i, 'Start']+df.loc[i, 'End'])/2)\n",
    "    df['mapped_year'] = df['average_year'].apply(map_year)\n",
    "    return df  # Return the dataframe with the new attributes"
   ]
  },
  {
   "cell_type": "markdown",
   "metadata": {},
   "source": [
    "# Bertopic"
   ]
  },
  {
   "cell_type": "code",
   "execution_count": 20,
   "metadata": {},
   "outputs": [],
   "source": [
    "data = set_time_attributes(data)\n",
    "data = data[[\"book\", \"chapter\", \"segmented\", \"average_year\", \"mapped_year\"]]\n",
    "data['contain_ren'] = data['segmented'].apply(lambda x: 1 if '仁' in x else 0)\n",
    "data.head()"
   ]
  },
  {
   "cell_type": "code",
   "execution_count": 22,
   "metadata": {},
   "outputs": [],
   "source": [
    "# Create a new DataFrame 'ren_data' that contains only the sentences that contain the character '仁'\n",
    "ren_data = data[data['contain_ren'] == 1].copy()\n",
    "# drop the 'contain_ren' column\n",
    "ren_data.drop('contain_ren', axis=1, inplace=True)\n",
    "ren_data.reset_index(drop=True, inplace=True)\n",
    "data_set=[]\n",
    "\n",
    "# store the sentences in the 'segmented' column to the data_set list\n",
    "for sentence in ren_data['segmented']:\n",
    "    data_set.append(sentence)\n",
    "print(len(data_set))"
   ]
  },
  {
   "cell_type": "code",
   "execution_count": 24,
   "metadata": {},
   "outputs": [
    {
     "name": "stdout",
     "output_type": "stream",
     "text": [
      "Using device: cpu\n"
     ]
    },
    {
     "name": "stderr",
     "output_type": "stream",
     "text": [
      "Some weights of BertModel were not initialized from the model checkpoint at Jihuai/bert-ancient-chinese and are newly initialized: ['bert.pooler.dense.bias', 'bert.pooler.dense.weight']\n",
      "You should probably TRAIN this model on a down-stream task to be able to use it for predictions and inference.\n"
     ]
    },
    {
     "name": "stdout",
     "output_type": "stream",
     "text": [
      "Processed 32/346 sentences\n",
      "Processed 64/346 sentences\n",
      "Processed 96/346 sentences\n",
      "Processed 128/346 sentences\n",
      "Processed 160/346 sentences\n",
      "Processed 192/346 sentences\n",
      "Processed 224/346 sentences\n",
      "Processed 256/346 sentences\n",
      "Processed 288/346 sentences\n",
      "Processed 320/346 sentences\n",
      "Processed 352/346 sentences\n",
      "(346, 16128)\n"
     ]
    }
   ],
   "source": [
    "# Check if CUDA is available and set the device to GPU if available, else CPU\n",
    "device = torch.device('cuda' if torch.cuda.is_available() else 'cpu')\n",
    "print(f\"Using device: {device}\")\n",
    "\n",
    "# Load the tokenizer and model from the pretrained BERT model for ancient Chinese\n",
    "tokenizer = AutoTokenizer.from_pretrained(\"Jihuai/bert-ancient-chinese\")\n",
    "model = AutoModel.from_pretrained(\"Jihuai/bert-ancient-chinese\").to(device)\n",
    "\n",
    "def split_sentence(sentence, max_length=512):\n",
    "    \"\"\"\n",
    "    Split a sentence into chunks of max_length tokens each.\n",
    "    Args:\n",
    "        sentence (str): The sentence to be split.\n",
    "        max_length (int): The maximum number of tokens for each chunk.\n",
    "    Returns:\n",
    "        list of str: The chunks of the sentence.\n",
    "    \"\"\"\n",
    "    tokens = tokenizer.tokenize(sentence)\n",
    "    chunks = [tokens[i:i + max_length] for i in range(0, len(tokens), max_length)]\n",
    "    return [tokenizer.convert_tokens_to_string(chunk) for chunk in chunks]\n",
    "\n",
    "def compute_max_chunks(sentences, max_length=512):\n",
    "    \"\"\"\n",
    "    Compute the maximum number of chunks a sentence can be split into.\n",
    "    Args:\n",
    "        sentences (list of str): The sentences to be split.\n",
    "        max_length (int): The maximum number of tokens for each chunk.\n",
    "    Returns:\n",
    "        int: The maximum number of chunks.\n",
    "        list of int: The number of chunks for each sentence.\n",
    "    \"\"\"\n",
    "    max_chunks = 0\n",
    "    sentence_chunk_counts = []\n",
    "    for sentence in sentences:\n",
    "        chunks = split_sentence(sentence, max_length=max_length)\n",
    "        chunk_count = len(chunks)\n",
    "        sentence_chunk_counts.append(chunk_count)\n",
    "        if chunk_count > max_chunks:\n",
    "            max_chunks = chunk_count\n",
    "    return max_chunks, sentence_chunk_counts\n",
    "\n",
    "def encode_sentences(model, tokenizer, sentences, max_chunks, batch_size=32, max_length=512, show_progress_bar=False):\n",
    "    \"\"\"\n",
    "    Encode sentences into embeddings.\n",
    "    Args:\n",
    "        model (torch.nn.Module): The model to use for encoding.\n",
    "        tokenizer (transformers.PreTrainedTokenizer): The tokenizer to use for encoding.\n",
    "        sentences (list of str): The sentences to encode.\n",
    "        max_chunks (int): The maximum number of chunks a sentence can be split into.\n",
    "        batch_size (int): The number of sentences to process at a time.\n",
    "        max_length (int): The maximum number of tokens for each chunk.\n",
    "        show_progress_bar (bool): Whether to show a progress bar.\n",
    "    Returns:\n",
    "        numpy.ndarray: The embeddings for the sentences.\n",
    "    \"\"\"\n",
    "    all_embeddings = []\n",
    "    sentence_chunk_counts = []\n",
    "    for i in range(0, len(sentences), batch_size):\n",
    "        batch = sentences[i:i+batch_size]\n",
    "        batch_embeddings = []\n",
    "        for sentence in batch:\n",
    "            chunks = split_sentence(sentence, max_length=max_length)\n",
    "            sentence_chunk_counts.append(len(chunks))\n",
    "            encoded_input = tokenizer(chunks, padding=True, truncation=True, max_length=max_length, return_tensors='pt').to(device)\n",
    "            with torch.no_grad():\n",
    "                model_output = model(**encoded_input)\n",
    "            sentence_embeddings = model_output.last_hidden_state.mean(dim=1)\n",
    "            batch_embeddings.append(sentence_embeddings)\n",
    "        all_embeddings.extend(batch_embeddings)\n",
    "        if show_progress_bar:\n",
    "            print(f\"Processed {i+batch_size}/{len(sentences)} sentences\")\n",
    "    extended_embeddings = []\n",
    "    for sentence_embeddings, chunk_count in zip(all_embeddings, sentence_chunk_counts):\n",
    "        padding = torch.zeros((max_chunks - chunk_count, sentence_embeddings.shape[1])).to(device)\n",
    "        extended_embedding = torch.cat([sentence_embeddings, padding], dim=0).flatten()\n",
    "        extended_embeddings.append(extended_embedding)\n",
    "    \n",
    "    return torch.stack(extended_embeddings).cpu().numpy()\n",
    "\n",
    "# Compute the maximum number of chunks a sentence can be split into\n",
    "max_chunks, sentence_chunk_counts = compute_max_chunks(data_set, max_length=512)\n",
    "\n",
    "# Encode the sentences into embeddings\n",
    "embeddings = encode_sentences(model, tokenizer, data_set, max_chunks, batch_size=32, max_length=512, show_progress_bar=True)\n",
    "\n",
    "print(embeddings.shape)\n",
    "\n",
    "# Save the embeddings to a file\n",
    "np.save('embeddings.npy', embeddings)"
   ]
  },
  {
   "cell_type": "code",
   "execution_count": 46,
   "metadata": {},
   "outputs": [
    {
     "name": "stdout",
     "output_type": "stream",
     "text": [
      "(346, 16128) (346, 5)\n"
     ]
    }
   ],
   "source": [
    "embeddings = np.load('data/embeddings.npy')\n",
    "print(embeddings.shape, ren_data.shape)"
   ]
  },
  {
   "cell_type": "code",
   "execution_count": 47,
   "metadata": {},
   "outputs": [
    {
     "name": "stdout",
     "output_type": "stream",
     "text": [
      "[1792, 1925, 2061, 2066, 2067, 2072, 2075, 1951, 1826, 2086, 2097, 2104, 2106, 1852, 1996, 2003, 1891, 1902, 2040, 2042]\n"
     ]
    }
   ],
   "source": [
    "timestamp = ren_data['mapped_year'].tolist()\n",
    "unique_years = list(set(timestamp))\n",
    "print(unique_years)"
   ]
  },
  {
   "cell_type": "code",
   "execution_count": 48,
   "metadata": {},
   "outputs": [
    {
     "data": {
      "image/png": "[encoded data removed]",
      "text/plain": [
       "<Figure size 1000x600 with 1 Axes>"
      ]
     },
     "metadata": {},
     "output_type": "display_data"
    }
   ],
   "source": [
    "\n",
    "plt.figure(figsize=(10, 6))\n",
    "sns.histplot(timestamp, bins=500)\n",
    "plt.title('Timestamp Frequency')\n",
    "plt.xlabel('Timestamp')\n",
    "plt.ylabel('Frequency')\n",
    "plt.show()"
   ]
  },
  {
   "cell_type": "markdown",
   "metadata": {},
   "source": [
    "### Easy bertopic"
   ]
  },
  {
   "cell_type": "code",
   "execution_count": 49,
   "metadata": {},
   "outputs": [
    {
     "data": {
      "text/html": [
       "<div>\n",
       "<style scoped>\n",
       "    .dataframe tbody tr th:only-of-type {\n",
       "        vertical-align: middle;\n",
       "    }\n",
       "\n",
       "    .dataframe tbody tr th {\n",
       "        vertical-align: top;\n",
       "    }\n",
       "\n",
       "    .dataframe thead th {\n",
       "        text-align: right;\n",
       "    }\n",
       "</style>\n",
       "<table border=\"1\" class=\"dataframe\">\n",
       "  <thead>\n",
       "    <tr style=\"text-align: right;\">\n",
       "      <th></th>\n",
       "      <th>Topic</th>\n",
       "      <th>Count</th>\n",
       "      <th>Name</th>\n",
       "      <th>Representation</th>\n",
       "      <th>Representative_Docs</th>\n",
       "    </tr>\n",
       "  </thead>\n",
       "  <tbody>\n",
       "    <tr>\n",
       "      <th>0</th>\n",
       "      <td>0</td>\n",
       "      <td>77</td>\n",
       "      <td>0_王_天_子_下</td>\n",
       "      <td>[王, 天, 子, 下, 君, 公, 知, 大, 能, 国]</td>\n",
       "      <td>[鲁 哀 公 问 子夏 曰 必 学 而 后 可 以 安 国 保 民 乎 子夏 曰 不 学 而...</td>\n",
       "    </tr>\n",
       "    <tr>\n",
       "      <th>1</th>\n",
       "      <td>1</td>\n",
       "      <td>65</td>\n",
       "      <td>1_孔子_天_民_子</td>\n",
       "      <td>[孔子, 天, 民, 子, 此, 行, 言, 知, 问, 仁]</td>\n",
       "      <td>[公 曰 四 代 之 政 刑 论 其 明 者 可 以 为 法 乎 子 曰 何 哉 四 代 之...</td>\n",
       "    </tr>\n",
       "    <tr>\n",
       "      <th>2</th>\n",
       "      <td>2</td>\n",
       "      <td>60</td>\n",
       "      <td>2_子_天_行_道</td>\n",
       "      <td>[子, 天, 行, 道, 礼, 仁, 民, 如, 君子, 此]</td>\n",
       "      <td>[孔子 曰 君子 之 道 譬 犹 防 与 夫 礼 之 塞 乱 之 所 从 生 也 ； 犹 防...</td>\n",
       "    </tr>\n",
       "    <tr>\n",
       "      <th>3</th>\n",
       "      <td>3</td>\n",
       "      <td>42</td>\n",
       "      <td>3_公_王_君_下</td>\n",
       "      <td>[公, 王, 君, 下, 天, 子, 大, 臣, 国, 能]</td>\n",
       "      <td>[圣 人 之 于 天 下 百 姓 也 其 犹 赤 子 乎 饥 者 则 食 之 寒 者 则 衣...</td>\n",
       "    </tr>\n",
       "    <tr>\n",
       "      <th>4</th>\n",
       "      <td>4</td>\n",
       "      <td>40</td>\n",
       "      <td>4_能_言_行_孔子</td>\n",
       "      <td>[能, 言, 行, 孔子, 然, 知, 善, 非, 君, 生]</td>\n",
       "      <td>[卫 将 军 文子 问 于 子贡 曰 吾 闻 孔子 之 施 教 也 先 之 以 《 诗 》 ...</td>\n",
       "    </tr>\n",
       "    <tr>\n",
       "      <th>5</th>\n",
       "      <td>5</td>\n",
       "      <td>34</td>\n",
       "      <td>5_天_王_大_能</td>\n",
       "      <td>[天, 王, 大, 能, 孟子, 知, 生, 子, 礼, 与]</td>\n",
       "      <td>[孟子 曰 尽 其 心 者 知 其 性 也 知 其 性 则 知 天 矣 存 其 心 养 其 ...</td>\n",
       "    </tr>\n",
       "    <tr>\n",
       "      <th>6</th>\n",
       "      <td>6</td>\n",
       "      <td>28</td>\n",
       "      <td>6_测_仁_君子_次</td>\n",
       "      <td>[测, 仁, 君子, 次, 忠, 道, 行, 子, 大, 天]</td>\n",
       "      <td>[子 曰 学 而 时 习 之 不 亦 说 乎 有 朋 自 远 方 来 不 亦 乐 乎 人 不...</td>\n",
       "    </tr>\n",
       "  </tbody>\n",
       "</table>\n",
       "</div>"
      ],
      "text/plain": [
       "   Topic  Count        Name                   Representation  \\\n",
       "0      0     77   0_王_天_子_下   [王, 天, 子, 下, 君, 公, 知, 大, 能, 国]   \n",
       "1      1     65  1_孔子_天_民_子  [孔子, 天, 民, 子, 此, 行, 言, 知, 问, 仁]   \n",
       "2      2     60   2_子_天_行_道  [子, 天, 行, 道, 礼, 仁, 民, 如, 君子, 此]   \n",
       "3      3     42   3_公_王_君_下   [公, 王, 君, 下, 天, 子, 大, 臣, 国, 能]   \n",
       "4      4     40  4_能_言_行_孔子  [能, 言, 行, 孔子, 然, 知, 善, 非, 君, 生]   \n",
       "5      5     34   5_天_王_大_能  [天, 王, 大, 能, 孟子, 知, 生, 子, 礼, 与]   \n",
       "6      6     28  6_测_仁_君子_次  [测, 仁, 君子, 次, 忠, 道, 行, 子, 大, 天]   \n",
       "\n",
       "                                 Representative_Docs  \n",
       "0  [鲁 哀 公 问 子夏 曰 必 学 而 后 可 以 安 国 保 民 乎 子夏 曰 不 学 而...  \n",
       "1  [公 曰 四 代 之 政 刑 论 其 明 者 可 以 为 法 乎 子 曰 何 哉 四 代 之...  \n",
       "2  [孔子 曰 君子 之 道 譬 犹 防 与 夫 礼 之 塞 乱 之 所 从 生 也 ； 犹 防...  \n",
       "3  [圣 人 之 于 天 下 百 姓 也 其 犹 赤 子 乎 饥 者 则 食 之 寒 者 则 衣...  \n",
       "4  [卫 将 军 文子 问 于 子贡 曰 吾 闻 孔子 之 施 教 也 先 之 以 《 诗 》 ...  \n",
       "5  [孟子 曰 尽 其 心 者 知 其 性 也 知 其 性 则 知 天 矣 存 其 心 养 其 ...  \n",
       "6  [子 曰 学 而 时 习 之 不 亦 说 乎 有 朋 自 远 方 来 不 亦 乐 乎 人 不...  "
      ]
     },
     "execution_count": 49,
     "metadata": {},
     "output_type": "execute_result"
    }
   ],
   "source": [
    "# Load stop words from a text file\n",
    "stop_word = [line.strip() for line in open('data/stop_word.txt','r',encoding='utf-8')]\n",
    "# Initialize a CountVectorizer with the stop words\n",
    "vectorizer_model = CountVectorizer(stop_words=stop_word,analyzer='word', token_pattern=u\"(?u)\\\\b\\\\w+\\\\b\")\n",
    "# Initialize a BERTopic model with the CountVectorizer and set the number of topics to be determined automatically\n",
    "topic_model = BERTopic(language=\"multilingual\", vectorizer_model=vectorizer_model, nr_topics='auto')\n",
    "# Fit the BERTopic model to the data and embeddings\n",
    "topic = topic_model.fit(data_set, embeddings)\n",
    "# Get information about the topics\n",
    "topic.get_topic_info()"
   ]
  },
  {
   "cell_type": "code",
   "execution_count": 57,
   "metadata": {},
   "outputs": [
    {
     "data": {
      "application/vnd.plotly.v1+json": {
       "config": {
        "plotlyServerURL": "https://plot.ly"
       },
       "data": [
        {
         "customdata": [
          [
           0,
           "王 | 天 | 子 | 下 | 君",
           77
          ],
          [
           1,
           "孔子 | 天 | 民 | 子 | 此",
           65
          ],
          [
           2,
           "子 | 天 | 行 | 道 | 礼",
           60
          ],
          [
           3,
           "公 | 王 | 君 | 下 | 天",
           42
          ],
          [
           4,
           "能 | 言 | 行 | 孔子 | 然",
           40
          ],
          [
           5,
           "天 | 王 | 大 | 能 | 孟子",
           34
          ],
          [
           6,
           "测 | 仁 | 君子 | 次 | 忠",
           28
          ]
         ],
         "hovertemplate": "<b>Topic %{customdata[0]}</b><br>%{customdata[1]}<br>Size: %{customdata[2]}",
         "legendgroup": "",
         "marker": {
          "color": "#B0BEC5",
          "line": {
           "color": "DarkSlateGrey",
           "width": 2
          },
          "size": [
           77,
           65,
           60,
           42,
           40,
           34,
           28
          ],
          "sizemode": "area",
          "sizeref": 0.048125,
          "symbol": "circle"
         },
         "mode": "markers",
         "name": "",
         "orientation": "v",
         "showlegend": false,
         "type": "scatter",
         "x": [
          5.553987503051758,
          2.8579213619232178,
          3.325721502304077,
          5.888298988342285,
          0.8642757534980774,
          1.145806074142456,
          3.7350497245788574
         ],
         "xaxis": "x",
         "y": [
          12.227776527404785,
          -2.615633249282837,
          -3.069096565246582,
          11.893528938293457,
          -0.6671897172927856,
          -0.9692683219909668,
          -3.510564088821411
         ],
         "yaxis": "y"
        }
       ],
       "layout": {
        "annotations": [
         {
          "showarrow": false,
          "text": "D1",
          "x": 0.7346343904733658,
          "y": 5.012397152185439,
          "yshift": 10
         },
         {
          "showarrow": false,
          "text": "D2",
          "x": 3.7530891135334965,
          "xshift": 10,
          "y": 14.061943006515502
         }
        ],
        "height": 650,
        "hoverlabel": {
         "bgcolor": "white",
         "font": {
          "family": "Rockwell",
          "size": 16
         }
        },
        "legend": {
         "itemsizing": "constant",
         "tracegroupgap": 0
        },
        "margin": {
         "t": 60
        },
        "shapes": [
         {
          "line": {
           "color": "#CFD8DC",
           "width": 2
          },
          "type": "line",
          "x0": 3.7530891135334965,
          "x1": 3.7530891135334965,
          "y0": -4.037148702144623,
          "y1": 14.061943006515502
         },
         {
          "line": {
           "color": "#9E9E9E",
           "width": 2
          },
          "type": "line",
          "x0": 0.7346343904733658,
          "x1": 6.771543836593628,
          "y0": 5.012397152185439,
          "y1": 5.012397152185439
         }
        ],
        "sliders": [
         {
          "active": 0,
          "pad": {
           "t": 50
          },
          "steps": [
           {
            "args": [
             {
              "marker.color": [
               [
                "red",
                "#B0BEC5",
                "#B0BEC5",
                "#B0BEC5",
                "#B0BEC5",
                "#B0BEC5",
                "#B0BEC5"
               ]
              ]
             }
            ],
            "label": "Topic 0",
            "method": "update"
           },
           {
            "args": [
             {
              "marker.color": [
               [
                "#B0BEC5",
                "red",
                "#B0BEC5",
                "#B0BEC5",
                "#B0BEC5",
                "#B0BEC5",
                "#B0BEC5"
               ]
              ]
             }
            ],
            "label": "Topic 1",
            "method": "update"
           },
           {
            "args": [
             {
              "marker.color": [
               [
                "#B0BEC5",
                "#B0BEC5",
                "red",
                "#B0BEC5",
                "#B0BEC5",
                "#B0BEC5",
                "#B0BEC5"
               ]
              ]
             }
            ],
            "label": "Topic 2",
            "method": "update"
           },
           {
            "args": [
             {
              "marker.color": [
               [
                "#B0BEC5",
                "#B0BEC5",
                "#B0BEC5",
                "red",
                "#B0BEC5",
                "#B0BEC5",
                "#B0BEC5"
               ]
              ]
             }
            ],
            "label": "Topic 3",
            "method": "update"
           },
           {
            "args": [
             {
              "marker.color": [
               [
                "#B0BEC5",
                "#B0BEC5",
                "#B0BEC5",
                "#B0BEC5",
                "red",
                "#B0BEC5",
                "#B0BEC5"
               ]
              ]
             }
            ],
            "label": "Topic 4",
            "method": "update"
           },
           {
            "args": [
             {
              "marker.color": [
               [
                "#B0BEC5",
                "#B0BEC5",
                "#B0BEC5",
                "#B0BEC5",
                "#B0BEC5",
                "red",
                "#B0BEC5"
               ]
              ]
             }
            ],
            "label": "Topic 5",
            "method": "update"
           },
           {
            "args": [
             {
              "marker.color": [
               [
                "#B0BEC5",
                "#B0BEC5",
                "#B0BEC5",
                "#B0BEC5",
                "#B0BEC5",
                "#B0BEC5",
                "red"
               ]
              ]
             }
            ],
            "label": "Topic 6",
            "method": "update"
           }
          ]
         }
        ],
        "template": {
         "data": {
          "bar": [
           {
            "error_x": {
             "color": "rgb(36,36,36)"
            },
            "error_y": {
             "color": "rgb(36,36,36)"
            },
            "marker": {
             "line": {
              "color": "white",
              "width": 0.5
             },
             "pattern": {
              "fillmode": "overlay",
              "size": 10,
              "solidity": 0.2
             }
            },
            "type": "bar"
           }
          ],
          "barpolar": [
           {
            "marker": {
             "line": {
              "color": "white",
              "width": 0.5
             },
             "pattern": {
              "fillmode": "overlay",
              "size": 10,
              "solidity": 0.2
             }
            },
            "type": "barpolar"
           }
          ],
          "carpet": [
           {
            "aaxis": {
             "endlinecolor": "rgb(36,36,36)",
             "gridcolor": "white",
             "linecolor": "white",
             "minorgridcolor": "white",
             "startlinecolor": "rgb(36,36,36)"
            },
            "baxis": {
             "endlinecolor": "rgb(36,36,36)",
             "gridcolor": "white",
             "linecolor": "white",
             "minorgridcolor": "white",
             "startlinecolor": "rgb(36,36,36)"
            },
            "type": "carpet"
           }
          ],
          "choropleth": [
           {
            "colorbar": {
             "outlinewidth": 1,
             "tickcolor": "rgb(36,36,36)",
             "ticks": "outside"
            },
            "type": "choropleth"
           }
          ],
          "contour": [
           {
            "colorbar": {
             "outlinewidth": 1,
             "tickcolor": "rgb(36,36,36)",
             "ticks": "outside"
            },
            "colorscale": [
             [
              0,
              "#440154"
             ],
             [
              0.1111111111111111,
              "#482878"
             ],
             [
              0.2222222222222222,
              "#3e4989"
             ],
             [
              0.3333333333333333,
              "#31688e"
             ],
             [
              0.4444444444444444,
              "#26828e"
             ],
             [
              0.5555555555555556,
              "#1f9e89"
             ],
             [
              0.6666666666666666,
              "#35b779"
             ],
             [
              0.7777777777777778,
              "#6ece58"
             ],
             [
              0.8888888888888888,
              "#b5de2b"
             ],
             [
              1,
              "#fde725"
             ]
            ],
            "type": "contour"
           }
          ],
          "contourcarpet": [
           {
            "colorbar": {
             "outlinewidth": 1,
             "tickcolor": "rgb(36,36,36)",
             "ticks": "outside"
            },
            "type": "contourcarpet"
           }
          ],
          "heatmap": [
           {
            "colorbar": {
             "outlinewidth": 1,
             "tickcolor": "rgb(36,36,36)",
             "ticks": "outside"
            },
            "colorscale": [
             [
              0,
              "#440154"
             ],
             [
              0.1111111111111111,
              "#482878"
             ],
             [
              0.2222222222222222,
              "#3e4989"
             ],
             [
              0.3333333333333333,
              "#31688e"
             ],
             [
              0.4444444444444444,
              "#26828e"
             ],
             [
              0.5555555555555556,
              "#1f9e89"
             ],
             [
              0.6666666666666666,
              "#35b779"
             ],
             [
              0.7777777777777778,
              "#6ece58"
             ],
             [
              0.8888888888888888,
              "#b5de2b"
             ],
             [
              1,
              "#fde725"
             ]
            ],
            "type": "heatmap"
           }
          ],
          "heatmapgl": [
           {
            "colorbar": {
             "outlinewidth": 1,
             "tickcolor": "rgb(36,36,36)",
             "ticks": "outside"
            },
            "colorscale": [
             [
              0,
              "#440154"
             ],
             [
              0.1111111111111111,
              "#482878"
             ],
             [
              0.2222222222222222,
              "#3e4989"
             ],
             [
              0.3333333333333333,
              "#31688e"
             ],
             [
              0.4444444444444444,
              "#26828e"
             ],
             [
              0.5555555555555556,
              "#1f9e89"
             ],
             [
              0.6666666666666666,
              "#35b779"
             ],
             [
              0.7777777777777778,
              "#6ece58"
             ],
             [
              0.8888888888888888,
              "#b5de2b"
             ],
             [
              1,
              "#fde725"
             ]
            ],
            "type": "heatmapgl"
           }
          ],
          "histogram": [
           {
            "marker": {
             "line": {
              "color": "white",
              "width": 0.6
             }
            },
            "type": "histogram"
           }
          ],
          "histogram2d": [
           {
            "colorbar": {
             "outlinewidth": 1,
             "tickcolor": "rgb(36,36,36)",
             "ticks": "outside"
            },
            "colorscale": [
             [
              0,
              "#440154"
             ],
             [
              0.1111111111111111,
              "#482878"
             ],
             [
              0.2222222222222222,
              "#3e4989"
             ],
             [
              0.3333333333333333,
              "#31688e"
             ],
             [
              0.4444444444444444,
              "#26828e"
             ],
             [
              0.5555555555555556,
              "#1f9e89"
             ],
             [
              0.6666666666666666,
              "#35b779"
             ],
             [
              0.7777777777777778,
              "#6ece58"
             ],
             [
              0.8888888888888888,
              "#b5de2b"
             ],
             [
              1,
              "#fde725"
             ]
            ],
            "type": "histogram2d"
           }
          ],
          "histogram2dcontour": [
           {
            "colorbar": {
             "outlinewidth": 1,
             "tickcolor": "rgb(36,36,36)",
             "ticks": "outside"
            },
            "colorscale": [
             [
              0,
              "#440154"
             ],
             [
              0.1111111111111111,
              "#482878"
             ],
             [
              0.2222222222222222,
              "#3e4989"
             ],
             [
              0.3333333333333333,
              "#31688e"
             ],
             [
              0.4444444444444444,
              "#26828e"
             ],
             [
              0.5555555555555556,
              "#1f9e89"
             ],
             [
              0.6666666666666666,
              "#35b779"
             ],
             [
              0.7777777777777778,
              "#6ece58"
             ],
             [
              0.8888888888888888,
              "#b5de2b"
             ],
             [
              1,
              "#fde725"
             ]
            ],
            "type": "histogram2dcontour"
           }
          ],
          "mesh3d": [
           {
            "colorbar": {
             "outlinewidth": 1,
             "tickcolor": "rgb(36,36,36)",
             "ticks": "outside"
            },
            "type": "mesh3d"
           }
          ],
          "parcoords": [
           {
            "line": {
             "colorbar": {
              "outlinewidth": 1,
              "tickcolor": "rgb(36,36,36)",
              "ticks": "outside"
             }
            },
            "type": "parcoords"
           }
          ],
          "pie": [
           {
            "automargin": true,
            "type": "pie"
           }
          ],
          "scatter": [
           {
            "fillpattern": {
             "fillmode": "overlay",
             "size": 10,
             "solidity": 0.2
            },
            "type": "scatter"
           }
          ],
          "scatter3d": [
           {
            "line": {
             "colorbar": {
              "outlinewidth": 1,
              "tickcolor": "rgb(36,36,36)",
              "ticks": "outside"
             }
            },
            "marker": {
             "colorbar": {
              "outlinewidth": 1,
              "tickcolor": "rgb(36,36,36)",
              "ticks": "outside"
             }
            },
            "type": "scatter3d"
           }
          ],
          "scattercarpet": [
           {
            "marker": {
             "colorbar": {
              "outlinewidth": 1,
              "tickcolor": "rgb(36,36,36)",
              "ticks": "outside"
             }
            },
            "type": "scattercarpet"
           }
          ],
          "scattergeo": [
           {
            "marker": {
             "colorbar": {
              "outlinewidth": 1,
              "tickcolor": "rgb(36,36,36)",
              "ticks": "outside"
             }
            },
            "type": "scattergeo"
           }
          ],
          "scattergl": [
           {
            "marker": {
             "colorbar": {
              "outlinewidth": 1,
              "tickcolor": "rgb(36,36,36)",
              "ticks": "outside"
             }
            },
            "type": "scattergl"
           }
          ],
          "scattermapbox": [
           {
            "marker": {
             "colorbar": {
              "outlinewidth": 1,
              "tickcolor": "rgb(36,36,36)",
              "ticks": "outside"
             }
            },
            "type": "scattermapbox"
           }
          ],
          "scatterpolar": [
           {
            "marker": {
             "colorbar": {
              "outlinewidth": 1,
              "tickcolor": "rgb(36,36,36)",
              "ticks": "outside"
             }
            },
            "type": "scatterpolar"
           }
          ],
          "scatterpolargl": [
           {
            "marker": {
             "colorbar": {
              "outlinewidth": 1,
              "tickcolor": "rgb(36,36,36)",
              "ticks": "outside"
             }
            },
            "type": "scatterpolargl"
           }
          ],
          "scatterternary": [
           {
            "marker": {
             "colorbar": {
              "outlinewidth": 1,
              "tickcolor": "rgb(36,36,36)",
              "ticks": "outside"
             }
            },
            "type": "scatterternary"
           }
          ],
          "surface": [
           {
            "colorbar": {
             "outlinewidth": 1,
             "tickcolor": "rgb(36,36,36)",
             "ticks": "outside"
            },
            "colorscale": [
             [
              0,
              "#440154"
             ],
             [
              0.1111111111111111,
              "#482878"
             ],
             [
              0.2222222222222222,
              "#3e4989"
             ],
             [
              0.3333333333333333,
              "#31688e"
             ],
             [
              0.4444444444444444,
              "#26828e"
             ],
             [
              0.5555555555555556,
              "#1f9e89"
             ],
             [
              0.6666666666666666,
              "#35b779"
             ],
             [
              0.7777777777777778,
              "#6ece58"
             ],
             [
              0.8888888888888888,
              "#b5de2b"
             ],
             [
              1,
              "#fde725"
             ]
            ],
            "type": "surface"
           }
          ],
          "table": [
           {
            "cells": {
             "fill": {
              "color": "rgb(237,237,237)"
             },
             "line": {
              "color": "white"
             }
            },
            "header": {
             "fill": {
              "color": "rgb(217,217,217)"
             },
             "line": {
              "color": "white"
             }
            },
            "type": "table"
           }
          ]
         },
         "layout": {
          "annotationdefaults": {
           "arrowhead": 0,
           "arrowwidth": 1
          },
          "autotypenumbers": "strict",
          "coloraxis": {
           "colorbar": {
            "outlinewidth": 1,
            "tickcolor": "rgb(36,36,36)",
            "ticks": "outside"
           }
          },
          "colorscale": {
           "diverging": [
            [
             0,
             "rgb(103,0,31)"
            ],
            [
             0.1,
             "rgb(178,24,43)"
            ],
            [
             0.2,
             "rgb(214,96,77)"
            ],
            [
             0.3,
             "rgb(244,165,130)"
            ],
            [
             0.4,
             "rgb(253,219,199)"
            ],
            [
             0.5,
             "rgb(247,247,247)"
            ],
            [
             0.6,
             "rgb(209,229,240)"
            ],
            [
             0.7,
             "rgb(146,197,222)"
            ],
            [
             0.8,
             "rgb(67,147,195)"
            ],
            [
             0.9,
             "rgb(33,102,172)"
            ],
            [
             1,
             "rgb(5,48,97)"
            ]
           ],
           "sequential": [
            [
             0,
             "#440154"
            ],
            [
             0.1111111111111111,
             "#482878"
            ],
            [
             0.2222222222222222,
             "#3e4989"
            ],
            [
             0.3333333333333333,
             "#31688e"
            ],
            [
             0.4444444444444444,
             "#26828e"
            ],
            [
             0.5555555555555556,
             "#1f9e89"
            ],
            [
             0.6666666666666666,
             "#35b779"
            ],
            [
             0.7777777777777778,
             "#6ece58"
            ],
            [
             0.8888888888888888,
             "#b5de2b"
            ],
            [
             1,
             "#fde725"
            ]
           ],
           "sequentialminus": [
            [
             0,
             "#440154"
            ],
            [
             0.1111111111111111,
             "#482878"
            ],
            [
             0.2222222222222222,
             "#3e4989"
            ],
            [
             0.3333333333333333,
             "#31688e"
            ],
            [
             0.4444444444444444,
             "#26828e"
            ],
            [
             0.5555555555555556,
             "#1f9e89"
            ],
            [
             0.6666666666666666,
             "#35b779"
            ],
            [
             0.7777777777777778,
             "#6ece58"
            ],
            [
             0.8888888888888888,
             "#b5de2b"
            ],
            [
             1,
             "#fde725"
            ]
           ]
          },
          "colorway": [
           "#1F77B4",
           "#FF7F0E",
           "#2CA02C",
           "#D62728",
           "#9467BD",
           "#8C564B",
           "#E377C2",
           "#7F7F7F",
           "#BCBD22",
           "#17BECF"
          ],
          "font": {
           "color": "rgb(36,36,36)"
          },
          "geo": {
           "bgcolor": "white",
           "lakecolor": "white",
           "landcolor": "white",
           "showlakes": true,
           "showland": true,
           "subunitcolor": "white"
          },
          "hoverlabel": {
           "align": "left"
          },
          "hovermode": "closest",
          "mapbox": {
           "style": "light"
          },
          "paper_bgcolor": "white",
          "plot_bgcolor": "white",
          "polar": {
           "angularaxis": {
            "gridcolor": "rgb(232,232,232)",
            "linecolor": "rgb(36,36,36)",
            "showgrid": false,
            "showline": true,
            "ticks": "outside"
           },
           "bgcolor": "white",
           "radialaxis": {
            "gridcolor": "rgb(232,232,232)",
            "linecolor": "rgb(36,36,36)",
            "showgrid": false,
            "showline": true,
            "ticks": "outside"
           }
          },
          "scene": {
           "xaxis": {
            "backgroundcolor": "white",
            "gridcolor": "rgb(232,232,232)",
            "gridwidth": 2,
            "linecolor": "rgb(36,36,36)",
            "showbackground": true,
            "showgrid": false,
            "showline": true,
            "ticks": "outside",
            "zeroline": false,
            "zerolinecolor": "rgb(36,36,36)"
           },
           "yaxis": {
            "backgroundcolor": "white",
            "gridcolor": "rgb(232,232,232)",
            "gridwidth": 2,
            "linecolor": "rgb(36,36,36)",
            "showbackground": true,
            "showgrid": false,
            "showline": true,
            "ticks": "outside",
            "zeroline": false,
            "zerolinecolor": "rgb(36,36,36)"
           },
           "zaxis": {
            "backgroundcolor": "white",
            "gridcolor": "rgb(232,232,232)",
            "gridwidth": 2,
            "linecolor": "rgb(36,36,36)",
            "showbackground": true,
            "showgrid": false,
            "showline": true,
            "ticks": "outside",
            "zeroline": false,
            "zerolinecolor": "rgb(36,36,36)"
           }
          },
          "shapedefaults": {
           "fillcolor": "black",
           "line": {
            "width": 0
           },
           "opacity": 0.3
          },
          "ternary": {
           "aaxis": {
            "gridcolor": "rgb(232,232,232)",
            "linecolor": "rgb(36,36,36)",
            "showgrid": false,
            "showline": true,
            "ticks": "outside"
           },
           "baxis": {
            "gridcolor": "rgb(232,232,232)",
            "linecolor": "rgb(36,36,36)",
            "showgrid": false,
            "showline": true,
            "ticks": "outside"
           },
           "bgcolor": "white",
           "caxis": {
            "gridcolor": "rgb(232,232,232)",
            "linecolor": "rgb(36,36,36)",
            "showgrid": false,
            "showline": true,
            "ticks": "outside"
           }
          },
          "title": {
           "x": 0.05
          },
          "xaxis": {
           "automargin": true,
           "gridcolor": "rgb(232,232,232)",
           "linecolor": "rgb(36,36,36)",
           "showgrid": false,
           "showline": true,
           "ticks": "outside",
           "title": {
            "standoff": 15
           },
           "zeroline": false,
           "zerolinecolor": "rgb(36,36,36)"
          },
          "yaxis": {
           "automargin": true,
           "gridcolor": "rgb(232,232,232)",
           "linecolor": "rgb(36,36,36)",
           "showgrid": false,
           "showline": true,
           "ticks": "outside",
           "title": {
            "standoff": 15
           },
           "zeroline": false,
           "zerolinecolor": "rgb(36,36,36)"
          }
         }
        },
        "title": {
         "font": {
          "color": "Black",
          "size": 22
         },
         "text": "<b>Intertopic Distance Map</b>",
         "x": 0.5,
         "xanchor": "center",
         "y": 0.95,
         "yanchor": "top"
        },
        "width": 650,
        "xaxis": {
         "anchor": "y",
         "domain": [
          0,
          1
         ],
         "range": [
          0.7346343904733658,
          6.771543836593628
         ],
         "title": {
          "text": ""
         },
         "visible": false
        },
        "yaxis": {
         "anchor": "x",
         "domain": [
          0,
          1
         ],
         "range": [
          -4.037148702144623,
          14.061943006515502
         ],
         "title": {
          "text": ""
         },
         "visible": false
        }
       }
      }
     },
     "metadata": {},
     "output_type": "display_data"
    }
   ],
   "source": [
    "# Visualize the topics\n",
    "topic_model.visualize_topics()"
   ]
  },
  {
   "cell_type": "code",
   "execution_count": 54,
   "metadata": {},
   "outputs": [
    {
     "data": {
      "application/vnd.plotly.v1+json": {
       "config": {
        "plotlyServerURL": "https://plot.ly"
       },
       "data": [
        {
         "hoverinfo": "text",
         "hovertext": [
          "<b>Topic 0</b><br>Words: 天, 下, 子, 道, 知",
          "<b>Topic 0</b><br>Words: 王, 天, 子, 与, 下",
          "<b>Topic 0</b><br>Words: 诗, 子, 天, 君, 王",
          "<b>Topic 0</b><br>Words: 王, 君, 子, 公, 下",
          "<b>Topic 0</b><br>Words: 孔子, 子, 能, 王, 闻",
          "<b>Topic 0</b><br>Words: 子, 言, 知, 天, 王",
          "<b>Topic 0</b><br>Words: 君, 子思, 子, 下, 天",
          "<b>Topic 0</b><br>Words: 帝, 天, 子, 王, 下",
          "<b>Topic 0</b><br>Words: 王, 天, 下, 君, 大"
         ],
         "marker": {
          "color": "#E69F00"
         },
         "mode": "lines",
         "name": "0_王_天_子_下",
         "type": "scatter",
         "x": [
          1823.4,
          1839.1,
          1917.6,
          1949,
          1996.1,
          2027.5,
          2058.9,
          2074.6,
          2090.3
         ],
         "y": [
          14,
          6,
          4,
          24,
          2,
          14,
          2,
          5,
          6
         ]
        },
        {
         "hoverinfo": "text",
         "hovertext": [
          "<b>Topic 1</b><br>Words: 子, 言, 问, 如, 孔子",
          "<b>Topic 1</b><br>Words: 礼, 孔子, 天, 此, 知",
          "<b>Topic 1</b><br>Words: 义, 仁, 行, 道, 天",
          "<b>Topic 1</b><br>Words: 义, 天, 仁, 气, 爱",
          "<b>Topic 1</b><br>Words: 问, 天, 道, 与, 知",
          "<b>Topic 1</b><br>Words: 孔子, 此, 问, 民, 礼",
          "<b>Topic 1</b><br>Words: 毒, 幸, 火, 气, 龙",
          "<b>Topic 1</b><br>Words: 此, 民, 非, 行, 言",
          "<b>Topic 1</b><br>Words: 民, 天, 德, 子, 孔子",
          "<b>Topic 1</b><br>Words: 气, 问, 神, 非, 性"
         ],
         "marker": {
          "color": "#56B4E9"
         },
         "mode": "lines",
         "name": "1_孔子_天_民_子",
         "type": "scatter",
         "x": [
          1791.686,
          1823.4,
          1901.9,
          1949,
          1980.4,
          1996.1,
          2027.5,
          2058.9,
          2074.6,
          2090.3
         ],
         "y": [
          3,
          11,
          2,
          2,
          7,
          11,
          3,
          17,
          8,
          1
         ]
        },
        {
         "hoverinfo": "text",
         "hovertext": [
          "<b>Topic 2</b><br>Words: 子, 与, 仁, 如, 吾",
          "<b>Topic 2</b><br>Words: 礼, 子, 天, 此, 义",
          "<b>Topic 2</b><br>Words: 道, 天, 行, 德, 治",
          "<b>Topic 2</b><br>Words: 天, 阳, 地, 阴, 行",
          "<b>Topic 2</b><br>Words: 问, 天, 圣, 政, 下",
          "<b>Topic 2</b><br>Words: 孔子, 天, 子, 礼, 民",
          "<b>Topic 2</b><br>Words: 子, 行, 天, 此, 必",
          "<b>Topic 2</b><br>Words: 天, 行, 子, 铭, 民"
         ],
         "marker": {
          "color": "#009E73"
         },
         "mode": "lines",
         "name": "2_子_天_行_道",
         "type": "scatter",
         "x": [
          1791.686,
          1823.4,
          1901.9,
          1949,
          1980.4,
          1996.1,
          2058.9,
          2074.6
         ],
         "y": [
          10,
          6,
          6,
          11,
          2,
          6,
          11,
          8
         ]
        },
        {
         "hoverinfo": "text",
         "hovertext": [
          "<b>Topic 3</b><br>Words: 下, 天, 礼, 国, 乐",
          "<b>Topic 3</b><br>Words: 君, 王, 公, 子, 天",
          "<b>Topic 3</b><br>Words: 君, 臣, 王, 公, 下",
          "<b>Topic 3</b><br>Words: 能, 言, 王, 知, 公",
          "<b>Topic 3</b><br>Words: 氏, 姓, 后, 王, 公",
          "<b>Topic 3</b><br>Words: 公, 臣, 大, 天, 子",
          "<b>Topic 3</b><br>Words: 帝, 冠, 后, 太, 公"
         ],
         "marker": {
          "color": "#F0E442"
         },
         "mode": "lines",
         "name": "3_公_王_君_下",
         "type": "scatter",
         "x": [
          1823.4,
          1917.6,
          1949,
          2027.5,
          2058.9,
          2074.6,
          2090.3
         ],
         "y": [
          8,
          6,
          13,
          6,
          1,
          6,
          2
         ]
        },
        {
         "hoverinfo": "text",
         "hovertext": [
          "<b>Topic 4</b><br>Words: 君子, 然, 能, 言, 非",
          "<b>Topic 4</b><br>Words: 君, 吾, 子, 公, 大",
          "<b>Topic 4</b><br>Words: 问, 三, 天, 一, 生",
          "<b>Topic 4</b><br>Words: 孔子, 字, 行, 言, 此",
          "<b>Topic 4</b><br>Words: 能, 生, 善, 文, 命",
          "<b>Topic 4</b><br>Words: 孔子, 然, 行, 言, 非",
          "<b>Topic 4</b><br>Words: 行, 言, 君子, 能, 知",
          "<b>Topic 4</b><br>Words: 臣, 非, 屈, 难, 能"
         ],
         "marker": {
          "color": "#D55E00"
         },
         "mode": "lines",
         "name": "4_能_言_行_孔子",
         "type": "scatter",
         "x": [
          1823.4,
          1949,
          1980.4,
          1996.1,
          2027.5,
          2058.9,
          2074.6,
          2090.3
         ],
         "y": [
          8,
          4,
          2,
          6,
          10,
          7,
          2,
          1
         ]
        },
        {
         "hoverinfo": "text",
         "hovertext": [
          "<b>Topic 5</b><br>Words: 大, 礼, 天, 王, 知",
          "<b>Topic 5</b><br>Words: 孟子, 王, 天, 与, 民",
          "<b>Topic 5</b><br>Words: 天, 性, 中, 王, 气",
          "<b>Topic 5</b><br>Words: 礼, 孔子, 子, 君, 天",
          "<b>Topic 5</b><br>Words: 能, 文, 生, 王, 圣",
          "<b>Topic 5</b><br>Words: 王, 民, 天, 此, 大",
          "<b>Topic 5</b><br>Words: 言, 天, 大, 时, 王",
          "<b>Topic 5</b><br>Words: 性, 恶, 情, 善, 知"
         ],
         "marker": {
          "color": "#0072B2"
         },
         "mode": "lines",
         "name": "5_天_王_大_能",
         "type": "scatter",
         "x": [
          1823.4,
          1839.1,
          1949,
          1996.1,
          2027.5,
          2058.9,
          2074.6,
          2090.3
         ],
         "y": [
          3,
          7,
          3,
          3,
          7,
          4,
          5,
          2
         ]
        },
        {
         "hoverinfo": "text",
         "hovertext": [
          "<b>Topic 6</b><br>Words: 子, 仁, 君子, 知, 道",
          "<b>Topic 6</b><br>Words: 同, 相, 仁, 行, 道",
          "<b>Topic 6</b><br>Words: 仁, 大, 天, 变, 贤",
          "<b>Topic 6</b><br>Words: 测, 次, 撰, 断, 决",
          "<b>Topic 6</b><br>Words: 忠, 君, 尽, 德, 仁",
          "<b>Topic 6</b><br>Words: 仁, 君子, 贵, 富, 道"
         ],
         "marker": {
          "color": "#CC79A7"
         },
         "mode": "lines",
         "name": "6_测_仁_君子_次",
         "type": "scatter",
         "x": [
          1791.686,
          1886.2,
          1949,
          1980.4,
          2058.9,
          2074.6
         ],
         "y": [
          3,
          4,
          8,
          6,
          5,
          2
         ]
        }
       ],
       "layout": {
        "height": 450,
        "hoverlabel": {
         "bgcolor": "white",
         "font": {
          "family": "Rockwell",
          "size": 16
         }
        },
        "legend": {
         "title": {
          "text": "<b>Global Topic Representation"
         }
        },
        "template": {
         "data": {
          "bar": [
           {
            "error_x": {
             "color": "rgb(36,36,36)"
            },
            "error_y": {
             "color": "rgb(36,36,36)"
            },
            "marker": {
             "line": {
              "color": "white",
              "width": 0.5
             },
             "pattern": {
              "fillmode": "overlay",
              "size": 10,
              "solidity": 0.2
             }
            },
            "type": "bar"
           }
          ],
          "barpolar": [
           {
            "marker": {
             "line": {
              "color": "white",
              "width": 0.5
             },
             "pattern": {
              "fillmode": "overlay",
              "size": 10,
              "solidity": 0.2
             }
            },
            "type": "barpolar"
           }
          ],
          "carpet": [
           {
            "aaxis": {
             "endlinecolor": "rgb(36,36,36)",
             "gridcolor": "white",
             "linecolor": "white",
             "minorgridcolor": "white",
             "startlinecolor": "rgb(36,36,36)"
            },
            "baxis": {
             "endlinecolor": "rgb(36,36,36)",
             "gridcolor": "white",
             "linecolor": "white",
             "minorgridcolor": "white",
             "startlinecolor": "rgb(36,36,36)"
            },
            "type": "carpet"
           }
          ],
          "choropleth": [
           {
            "colorbar": {
             "outlinewidth": 1,
             "tickcolor": "rgb(36,36,36)",
             "ticks": "outside"
            },
            "type": "choropleth"
           }
          ],
          "contour": [
           {
            "colorbar": {
             "outlinewidth": 1,
             "tickcolor": "rgb(36,36,36)",
             "ticks": "outside"
            },
            "colorscale": [
             [
              0,
              "#440154"
             ],
             [
              0.1111111111111111,
              "#482878"
             ],
             [
              0.2222222222222222,
              "#3e4989"
             ],
             [
              0.3333333333333333,
              "#31688e"
             ],
             [
              0.4444444444444444,
              "#26828e"
             ],
             [
              0.5555555555555556,
              "#1f9e89"
             ],
             [
              0.6666666666666666,
              "#35b779"
             ],
             [
              0.7777777777777778,
              "#6ece58"
             ],
             [
              0.8888888888888888,
              "#b5de2b"
             ],
             [
              1,
              "#fde725"
             ]
            ],
            "type": "contour"
           }
          ],
          "contourcarpet": [
           {
            "colorbar": {
             "outlinewidth": 1,
             "tickcolor": "rgb(36,36,36)",
             "ticks": "outside"
            },
            "type": "contourcarpet"
           }
          ],
          "heatmap": [
           {
            "colorbar": {
             "outlinewidth": 1,
             "tickcolor": "rgb(36,36,36)",
             "ticks": "outside"
            },
            "colorscale": [
             [
              0,
              "#440154"
             ],
             [
              0.1111111111111111,
              "#482878"
             ],
             [
              0.2222222222222222,
              "#3e4989"
             ],
             [
              0.3333333333333333,
              "#31688e"
             ],
             [
              0.4444444444444444,
              "#26828e"
             ],
             [
              0.5555555555555556,
              "#1f9e89"
             ],
             [
              0.6666666666666666,
              "#35b779"
             ],
             [
              0.7777777777777778,
              "#6ece58"
             ],
             [
              0.8888888888888888,
              "#b5de2b"
             ],
             [
              1,
              "#fde725"
             ]
            ],
            "type": "heatmap"
           }
          ],
          "heatmapgl": [
           {
            "colorbar": {
             "outlinewidth": 1,
             "tickcolor": "rgb(36,36,36)",
             "ticks": "outside"
            },
            "colorscale": [
             [
              0,
              "#440154"
             ],
             [
              0.1111111111111111,
              "#482878"
             ],
             [
              0.2222222222222222,
              "#3e4989"
             ],
             [
              0.3333333333333333,
              "#31688e"
             ],
             [
              0.4444444444444444,
              "#26828e"
             ],
             [
              0.5555555555555556,
              "#1f9e89"
             ],
             [
              0.6666666666666666,
              "#35b779"
             ],
             [
              0.7777777777777778,
              "#6ece58"
             ],
             [
              0.8888888888888888,
              "#b5de2b"
             ],
             [
              1,
              "#fde725"
             ]
            ],
            "type": "heatmapgl"
           }
          ],
          "histogram": [
           {
            "marker": {
             "line": {
              "color": "white",
              "width": 0.6
             }
            },
            "type": "histogram"
           }
          ],
          "histogram2d": [
           {
            "colorbar": {
             "outlinewidth": 1,
             "tickcolor": "rgb(36,36,36)",
             "ticks": "outside"
            },
            "colorscale": [
             [
              0,
              "#440154"
             ],
             [
              0.1111111111111111,
              "#482878"
             ],
             [
              0.2222222222222222,
              "#3e4989"
             ],
             [
              0.3333333333333333,
              "#31688e"
             ],
             [
              0.4444444444444444,
              "#26828e"
             ],
             [
              0.5555555555555556,
              "#1f9e89"
             ],
             [
              0.6666666666666666,
              "#35b779"
             ],
             [
              0.7777777777777778,
              "#6ece58"
             ],
             [
              0.8888888888888888,
              "#b5de2b"
             ],
             [
              1,
              "#fde725"
             ]
            ],
            "type": "histogram2d"
           }
          ],
          "histogram2dcontour": [
           {
            "colorbar": {
             "outlinewidth": 1,
             "tickcolor": "rgb(36,36,36)",
             "ticks": "outside"
            },
            "colorscale": [
             [
              0,
              "#440154"
             ],
             [
              0.1111111111111111,
              "#482878"
             ],
             [
              0.2222222222222222,
              "#3e4989"
             ],
             [
              0.3333333333333333,
              "#31688e"
             ],
             [
              0.4444444444444444,
              "#26828e"
             ],
             [
              0.5555555555555556,
              "#1f9e89"
             ],
             [
              0.6666666666666666,
              "#35b779"
             ],
             [
              0.7777777777777778,
              "#6ece58"
             ],
             [
              0.8888888888888888,
              "#b5de2b"
             ],
             [
              1,
              "#fde725"
             ]
            ],
            "type": "histogram2dcontour"
           }
          ],
          "mesh3d": [
           {
            "colorbar": {
             "outlinewidth": 1,
             "tickcolor": "rgb(36,36,36)",
             "ticks": "outside"
            },
            "type": "mesh3d"
           }
          ],
          "parcoords": [
           {
            "line": {
             "colorbar": {
              "outlinewidth": 1,
              "tickcolor": "rgb(36,36,36)",
              "ticks": "outside"
             }
            },
            "type": "parcoords"
           }
          ],
          "pie": [
           {
            "automargin": true,
            "type": "pie"
           }
          ],
          "scatter": [
           {
            "fillpattern": {
             "fillmode": "overlay",
             "size": 10,
             "solidity": 0.2
            },
            "type": "scatter"
           }
          ],
          "scatter3d": [
           {
            "line": {
             "colorbar": {
              "outlinewidth": 1,
              "tickcolor": "rgb(36,36,36)",
              "ticks": "outside"
             }
            },
            "marker": {
             "colorbar": {
              "outlinewidth": 1,
              "tickcolor": "rgb(36,36,36)",
              "ticks": "outside"
             }
            },
            "type": "scatter3d"
           }
          ],
          "scattercarpet": [
           {
            "marker": {
             "colorbar": {
              "outlinewidth": 1,
              "tickcolor": "rgb(36,36,36)",
              "ticks": "outside"
             }
            },
            "type": "scattercarpet"
           }
          ],
          "scattergeo": [
           {
            "marker": {
             "colorbar": {
              "outlinewidth": 1,
              "tickcolor": "rgb(36,36,36)",
              "ticks": "outside"
             }
            },
            "type": "scattergeo"
           }
          ],
          "scattergl": [
           {
            "marker": {
             "colorbar": {
              "outlinewidth": 1,
              "tickcolor": "rgb(36,36,36)",
              "ticks": "outside"
             }
            },
            "type": "scattergl"
           }
          ],
          "scattermapbox": [
           {
            "marker": {
             "colorbar": {
              "outlinewidth": 1,
              "tickcolor": "rgb(36,36,36)",
              "ticks": "outside"
             }
            },
            "type": "scattermapbox"
           }
          ],
          "scatterpolar": [
           {
            "marker": {
             "colorbar": {
              "outlinewidth": 1,
              "tickcolor": "rgb(36,36,36)",
              "ticks": "outside"
             }
            },
            "type": "scatterpolar"
           }
          ],
          "scatterpolargl": [
           {
            "marker": {
             "colorbar": {
              "outlinewidth": 1,
              "tickcolor": "rgb(36,36,36)",
              "ticks": "outside"
             }
            },
            "type": "scatterpolargl"
           }
          ],
          "scatterternary": [
           {
            "marker": {
             "colorbar": {
              "outlinewidth": 1,
              "tickcolor": "rgb(36,36,36)",
              "ticks": "outside"
             }
            },
            "type": "scatterternary"
           }
          ],
          "surface": [
           {
            "colorbar": {
             "outlinewidth": 1,
             "tickcolor": "rgb(36,36,36)",
             "ticks": "outside"
            },
            "colorscale": [
             [
              0,
              "#440154"
             ],
             [
              0.1111111111111111,
              "#482878"
             ],
             [
              0.2222222222222222,
              "#3e4989"
             ],
             [
              0.3333333333333333,
              "#31688e"
             ],
             [
              0.4444444444444444,
              "#26828e"
             ],
             [
              0.5555555555555556,
              "#1f9e89"
             ],
             [
              0.6666666666666666,
              "#35b779"
             ],
             [
              0.7777777777777778,
              "#6ece58"
             ],
             [
              0.8888888888888888,
              "#b5de2b"
             ],
             [
              1,
              "#fde725"
             ]
            ],
            "type": "surface"
           }
          ],
          "table": [
           {
            "cells": {
             "fill": {
              "color": "rgb(237,237,237)"
             },
             "line": {
              "color": "white"
             }
            },
            "header": {
             "fill": {
              "color": "rgb(217,217,217)"
             },
             "line": {
              "color": "white"
             }
            },
            "type": "table"
           }
          ]
         },
         "layout": {
          "annotationdefaults": {
           "arrowhead": 0,
           "arrowwidth": 1
          },
          "autotypenumbers": "strict",
          "coloraxis": {
           "colorbar": {
            "outlinewidth": 1,
            "tickcolor": "rgb(36,36,36)",
            "ticks": "outside"
           }
          },
          "colorscale": {
           "diverging": [
            [
             0,
             "rgb(103,0,31)"
            ],
            [
             0.1,
             "rgb(178,24,43)"
            ],
            [
             0.2,
             "rgb(214,96,77)"
            ],
            [
             0.3,
             "rgb(244,165,130)"
            ],
            [
             0.4,
             "rgb(253,219,199)"
            ],
            [
             0.5,
             "rgb(247,247,247)"
            ],
            [
             0.6,
             "rgb(209,229,240)"
            ],
            [
             0.7,
             "rgb(146,197,222)"
            ],
            [
             0.8,
             "rgb(67,147,195)"
            ],
            [
             0.9,
             "rgb(33,102,172)"
            ],
            [
             1,
             "rgb(5,48,97)"
            ]
           ],
           "sequential": [
            [
             0,
             "#440154"
            ],
            [
             0.1111111111111111,
             "#482878"
            ],
            [
             0.2222222222222222,
             "#3e4989"
            ],
            [
             0.3333333333333333,
             "#31688e"
            ],
            [
             0.4444444444444444,
             "#26828e"
            ],
            [
             0.5555555555555556,
             "#1f9e89"
            ],
            [
             0.6666666666666666,
             "#35b779"
            ],
            [
             0.7777777777777778,
             "#6ece58"
            ],
            [
             0.8888888888888888,
             "#b5de2b"
            ],
            [
             1,
             "#fde725"
            ]
           ],
           "sequentialminus": [
            [
             0,
             "#440154"
            ],
            [
             0.1111111111111111,
             "#482878"
            ],
            [
             0.2222222222222222,
             "#3e4989"
            ],
            [
             0.3333333333333333,
             "#31688e"
            ],
            [
             0.4444444444444444,
             "#26828e"
            ],
            [
             0.5555555555555556,
             "#1f9e89"
            ],
            [
             0.6666666666666666,
             "#35b779"
            ],
            [
             0.7777777777777778,
             "#6ece58"
            ],
            [
             0.8888888888888888,
             "#b5de2b"
            ],
            [
             1,
             "#fde725"
            ]
           ]
          },
          "colorway": [
           "#1F77B4",
           "#FF7F0E",
           "#2CA02C",
           "#D62728",
           "#9467BD",
           "#8C564B",
           "#E377C2",
           "#7F7F7F",
           "#BCBD22",
           "#17BECF"
          ],
          "font": {
           "color": "rgb(36,36,36)"
          },
          "geo": {
           "bgcolor": "white",
           "lakecolor": "white",
           "landcolor": "white",
           "showlakes": true,
           "showland": true,
           "subunitcolor": "white"
          },
          "hoverlabel": {
           "align": "left"
          },
          "hovermode": "closest",
          "mapbox": {
           "style": "light"
          },
          "paper_bgcolor": "white",
          "plot_bgcolor": "white",
          "polar": {
           "angularaxis": {
            "gridcolor": "rgb(232,232,232)",
            "linecolor": "rgb(36,36,36)",
            "showgrid": false,
            "showline": true,
            "ticks": "outside"
           },
           "bgcolor": "white",
           "radialaxis": {
            "gridcolor": "rgb(232,232,232)",
            "linecolor": "rgb(36,36,36)",
            "showgrid": false,
            "showline": true,
            "ticks": "outside"
           }
          },
          "scene": {
           "xaxis": {
            "backgroundcolor": "white",
            "gridcolor": "rgb(232,232,232)",
            "gridwidth": 2,
            "linecolor": "rgb(36,36,36)",
            "showbackground": true,
            "showgrid": false,
            "showline": true,
            "ticks": "outside",
            "zeroline": false,
            "zerolinecolor": "rgb(36,36,36)"
           },
           "yaxis": {
            "backgroundcolor": "white",
            "gridcolor": "rgb(232,232,232)",
            "gridwidth": 2,
            "linecolor": "rgb(36,36,36)",
            "showbackground": true,
            "showgrid": false,
            "showline": true,
            "ticks": "outside",
            "zeroline": false,
            "zerolinecolor": "rgb(36,36,36)"
           },
           "zaxis": {
            "backgroundcolor": "white",
            "gridcolor": "rgb(232,232,232)",
            "gridwidth": 2,
            "linecolor": "rgb(36,36,36)",
            "showbackground": true,
            "showgrid": false,
            "showline": true,
            "ticks": "outside",
            "zeroline": false,
            "zerolinecolor": "rgb(36,36,36)"
           }
          },
          "shapedefaults": {
           "fillcolor": "black",
           "line": {
            "width": 0
           },
           "opacity": 0.3
          },
          "ternary": {
           "aaxis": {
            "gridcolor": "rgb(232,232,232)",
            "linecolor": "rgb(36,36,36)",
            "showgrid": false,
            "showline": true,
            "ticks": "outside"
           },
           "baxis": {
            "gridcolor": "rgb(232,232,232)",
            "linecolor": "rgb(36,36,36)",
            "showgrid": false,
            "showline": true,
            "ticks": "outside"
           },
           "bgcolor": "white",
           "caxis": {
            "gridcolor": "rgb(232,232,232)",
            "linecolor": "rgb(36,36,36)",
            "showgrid": false,
            "showline": true,
            "ticks": "outside"
           }
          },
          "title": {
           "x": 0.05
          },
          "xaxis": {
           "automargin": true,
           "gridcolor": "rgb(232,232,232)",
           "linecolor": "rgb(36,36,36)",
           "showgrid": false,
           "showline": true,
           "ticks": "outside",
           "title": {
            "standoff": 15
           },
           "zeroline": false,
           "zerolinecolor": "rgb(36,36,36)"
          },
          "yaxis": {
           "automargin": true,
           "gridcolor": "rgb(232,232,232)",
           "linecolor": "rgb(36,36,36)",
           "showgrid": false,
           "showline": true,
           "ticks": "outside",
           "title": {
            "standoff": 15
           },
           "zeroline": false,
           "zerolinecolor": "rgb(36,36,36)"
          }
         }
        },
        "title": {
         "font": {
          "color": "Black",
          "size": 22
         },
         "text": "<b>Topics over Time</b>",
         "x": 0.4,
         "xanchor": "center",
         "y": 0.95,
         "yanchor": "top"
        },
        "width": 1250,
        "xaxis": {
         "showgrid": true
        },
        "yaxis": {
         "showgrid": true,
         "title": {
          "text": "Frequency"
         }
        }
       }
      }
     },
     "metadata": {},
     "output_type": "display_data"
    }
   ],
   "source": [
    "# Compute the topics over time with global and evolution tuning\n",
    "topics_over_time = topic_model.topics_over_time(data_set, timestamp, global_tuning=True, \n",
    "                                                evolution_tuning=True, nr_bins=20, datetime_format=\"%Y\")\n",
    "# Visualize the topics over time for the top 2 topics\n",
    "topic_model.visualize_topics_over_time(topics_over_time, top_n_topics=7)"
   ]
  },
  {
   "cell_type": "markdown",
   "metadata": {},
   "source": [
    "### finetuning bertopic"
   ]
  },
  {
   "cell_type": "code",
   "execution_count": 55,
   "metadata": {},
   "outputs": [
    {
     "data": {
      "text/html": [
       "<div>\n",
       "<style scoped>\n",
       "    .dataframe tbody tr th:only-of-type {\n",
       "        vertical-align: middle;\n",
       "    }\n",
       "\n",
       "    .dataframe tbody tr th {\n",
       "        vertical-align: top;\n",
       "    }\n",
       "\n",
       "    .dataframe thead th {\n",
       "        text-align: right;\n",
       "    }\n",
       "</style>\n",
       "<table border=\"1\" class=\"dataframe\">\n",
       "  <thead>\n",
       "    <tr style=\"text-align: right;\">\n",
       "      <th></th>\n",
       "      <th>Topic</th>\n",
       "      <th>Count</th>\n",
       "      <th>Name</th>\n",
       "      <th>Representation</th>\n",
       "      <th>Representative_Docs</th>\n",
       "    </tr>\n",
       "  </thead>\n",
       "  <tbody>\n",
       "    <tr>\n",
       "      <th>0</th>\n",
       "      <td>0</td>\n",
       "      <td>75</td>\n",
       "      <td>0_王_天_公_子</td>\n",
       "      <td>[王, 天, 公, 子, 下, 君, 国, 能, 大, 臣, 知, 言, 得, 与, 行, ...</td>\n",
       "      <td>[齐 宣 王 谓 田 过 曰 吾 闻 儒 者 亲 丧 三 年 君 与 父 孰 重 过 对 曰...</td>\n",
       "    </tr>\n",
       "    <tr>\n",
       "      <th>1</th>\n",
       "      <td>1</td>\n",
       "      <td>65</td>\n",
       "      <td>1_孔子_民_天_子</td>\n",
       "      <td>[孔子, 民, 天, 子, 此, 行, 言, 知, 问, 仁, 道, 如, 德, 君子, 礼...</td>\n",
       "      <td>[公 曰 四 代 之 政 刑 论 其 明 者 可 以 为 法 乎 子 曰 何 哉 四 代 之...</td>\n",
       "    </tr>\n",
       "    <tr>\n",
       "      <th>2</th>\n",
       "      <td>2</td>\n",
       "      <td>50</td>\n",
       "      <td>2_天_行_礼_道</td>\n",
       "      <td>[天, 行, 礼, 道, 此, 民, 地, 德, 下, 事, 治, 明, 大, 必, 仁, ...</td>\n",
       "      <td>[夫 长 于 变 者 不 可 穷 以 诈 通 于 道 者 不 可 惊 以 怪 审 于 辞 者...</td>\n",
       "    </tr>\n",
       "    <tr>\n",
       "      <th>3</th>\n",
       "      <td>3</td>\n",
       "      <td>44</td>\n",
       "      <td>3_王_子_天_君</td>\n",
       "      <td>[王, 子, 天, 君, 下, 大, 知, 道, 能, 公, 臣, 行, 民, 得, 言, ...</td>\n",
       "      <td>[贤 人 君子 者 通 乎 盛 衰 之 时 明 乎 成 败 之 端 察 乎 治 乱 之 纪 ...</td>\n",
       "    </tr>\n",
       "    <tr>\n",
       "      <th>4</th>\n",
       "      <td>4</td>\n",
       "      <td>40</td>\n",
       "      <td>4_能_言_行_孔子</td>\n",
       "      <td>[能, 言, 行, 孔子, 然, 善, 知, 非, 君, 生, 君子, 此, 见, 天, 子...</td>\n",
       "      <td>[卫 将 军 文子 问 于 子贡 曰 吾 闻 孔子 之 施 教 也 先 之 以 《 诗 》 ...</td>\n",
       "    </tr>\n",
       "    <tr>\n",
       "      <th>5</th>\n",
       "      <td>5</td>\n",
       "      <td>34</td>\n",
       "      <td>5_天_王_大_能</td>\n",
       "      <td>[天, 王, 大, 能, 孟子, 生, 知, 礼, 子, 与, 言, 行, 然, 事, 下,...</td>\n",
       "      <td>[孟子 曰 天 时 不 如 地 利 地 利 不 如 人 和 三 里 之 城 七 里 之 郭 ...</td>\n",
       "    </tr>\n",
       "    <tr>\n",
       "      <th>6</th>\n",
       "      <td>6</td>\n",
       "      <td>28</td>\n",
       "      <td>6_测_仁_次_君子</td>\n",
       "      <td>[测, 仁, 次, 君子, 忠, 道, 行, 大, 子, 天, 同, 得, 一, 德, 能,...</td>\n",
       "      <td>[子 曰 学 而 时 习 之 不 亦 说 乎 有 朋 自 远 方 来 不 亦 乐 乎 人 不...</td>\n",
       "    </tr>\n",
       "    <tr>\n",
       "      <th>7</th>\n",
       "      <td>7</td>\n",
       "      <td>10</td>\n",
       "      <td>7_子_吾_与_仁</td>\n",
       "      <td>[子, 吾, 与, 仁, 问, 如, 君子, 斯, 子贡, 知, 子路, 道, 夫子, 见,...</td>\n",
       "      <td>[子 曰 述 而 不 作 信 而 好 古 窃 比 于 我 老 彭 子 曰 默 而 识 之 学...</td>\n",
       "    </tr>\n",
       "  </tbody>\n",
       "</table>\n",
       "</div>"
      ],
      "text/plain": [
       "   Topic  Count        Name  \\\n",
       "0      0     75   0_王_天_公_子   \n",
       "1      1     65  1_孔子_民_天_子   \n",
       "2      2     50   2_天_行_礼_道   \n",
       "3      3     44   3_王_子_天_君   \n",
       "4      4     40  4_能_言_行_孔子   \n",
       "5      5     34   5_天_王_大_能   \n",
       "6      6     28  6_测_仁_次_君子   \n",
       "7      7     10   7_子_吾_与_仁   \n",
       "\n",
       "                                      Representation  \\\n",
       "0  [王, 天, 公, 子, 下, 君, 国, 能, 大, 臣, 知, 言, 得, 与, 行, ...   \n",
       "1  [孔子, 民, 天, 子, 此, 行, 言, 知, 问, 仁, 道, 如, 德, 君子, 礼...   \n",
       "2  [天, 行, 礼, 道, 此, 民, 地, 德, 下, 事, 治, 明, 大, 必, 仁, ...   \n",
       "3  [王, 子, 天, 君, 下, 大, 知, 道, 能, 公, 臣, 行, 民, 得, 言, ...   \n",
       "4  [能, 言, 行, 孔子, 然, 善, 知, 非, 君, 生, 君子, 此, 见, 天, 子...   \n",
       "5  [天, 王, 大, 能, 孟子, 生, 知, 礼, 子, 与, 言, 行, 然, 事, 下,...   \n",
       "6  [测, 仁, 次, 君子, 忠, 道, 行, 大, 子, 天, 同, 得, 一, 德, 能,...   \n",
       "7  [子, 吾, 与, 仁, 问, 如, 君子, 斯, 子贡, 知, 子路, 道, 夫子, 见,...   \n",
       "\n",
       "                                 Representative_Docs  \n",
       "0  [齐 宣 王 谓 田 过 曰 吾 闻 儒 者 亲 丧 三 年 君 与 父 孰 重 过 对 曰...  \n",
       "1  [公 曰 四 代 之 政 刑 论 其 明 者 可 以 为 法 乎 子 曰 何 哉 四 代 之...  \n",
       "2  [夫 长 于 变 者 不 可 穷 以 诈 通 于 道 者 不 可 惊 以 怪 审 于 辞 者...  \n",
       "3  [贤 人 君子 者 通 乎 盛 衰 之 时 明 乎 成 败 之 端 察 乎 治 乱 之 纪 ...  \n",
       "4  [卫 将 军 文子 问 于 子贡 曰 吾 闻 孔子 之 施 教 也 先 之 以 《 诗 》 ...  \n",
       "5  [孟子 曰 天 时 不 如 地 利 地 利 不 如 人 和 三 里 之 城 七 里 之 郭 ...  \n",
       "6  [子 曰 学 而 时 习 之 不 亦 说 乎 有 朋 自 远 方 来 不 亦 乐 乎 人 不...  \n",
       "7  [子 曰 述 而 不 作 信 而 好 古 窃 比 于 我 老 彭 子 曰 默 而 识 之 学...  "
      ]
     },
     "execution_count": 55,
     "metadata": {},
     "output_type": "execute_result"
    }
   ],
   "source": [
    "# Initialize a UMAP model with specific parameters\n",
    "umap_model = UMAP(n_neighbors=15, n_components=5, min_dist=0.0, metric='cosine')\n",
    "# Initialize a HDBSCAN model with specific parameters\n",
    "hdbscan_model = hdbscan.HDBSCAN(min_cluster_size=10, min_samples=1, cluster_selection_method='eom', prediction_data=True)\n",
    "# Load stop words from a text file\n",
    "stop_word = [line.strip() for line in open('data/stop_word.txt','r',encoding='utf-8')]\n",
    "# Initialize a CountVectorizer with the stop words and a minimum document frequency of 3\n",
    "vectorizer_model = CountVectorizer(stop_words=stop_word,analyzer='word', token_pattern=u\"(?u)\\\\b\\\\w+\\\\b\", min_df=3)\n",
    "# Initialize a BERTopic model with the UMAP model, HDBSCAN model, CountVectorizer, and set the number of topics to be determined automatically\n",
    "topic_model3 = BERTopic(umap_model=umap_model, hdbscan_model=hdbscan_model, language=\"multilingual\", vectorizer_model=vectorizer_model, top_n_words=30, nr_topics=\"auto\" )\n",
    "# Fit the BERTopic model to the data and embeddings\n",
    "topic = topic_model3.fit(data_set, embeddings)\n",
    "# Get information about the topics\n",
    "topic_info = topic.get_topic_info() \n",
    "topic_info = topic_model3.get_topic_info()\n",
    "# Get information about the topics one more time\n",
    "topic.get_topic_info()"
   ]
  },
  {
   "cell_type": "code",
   "execution_count": 56,
   "metadata": {},
   "outputs": [
    {
     "name": "stderr",
     "output_type": "stream",
     "text": [
      "2024-06-04 19:05:28,112 - BERTopic - WARNING: When you use `pickle` to save/load a BERTopic model,please make sure that the environments in which you saveand load the model are **exactly** the same. The version of BERTopic,its dependencies, and python need to remain the same.\n"
     ]
    }
   ],
   "source": [
    "topic_model3.save(\"bertopic_model.pkl\")"
   ]
  }
 ],
 "metadata": {
  "kernelspec": {
   "display_name": "Python 3",
   "language": "python",
   "name": "python3"
  },
  "language_info": {
   "codemirror_mode": {
    "name": "ipython",
    "version": 3
   },
   "file_extension": ".py",
   "mimetype": "text/x-python",
   "name": "python",
   "nbconvert_exporter": "python",
   "pygments_lexer": "ipython3",
   "version": "3.10.4"
  }
 },
 "nbformat": 4,
 "nbformat_minor": 2
}
